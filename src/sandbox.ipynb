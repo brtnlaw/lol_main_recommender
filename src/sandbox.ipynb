{
 "cells": [
  {
   "cell_type": "code",
   "execution_count": 20,
   "id": "85ac013b",
   "metadata": {},
   "outputs": [],
   "source": [
    "import os\n",
    "import requests\n",
    "\n",
    "game_name = \"BSIZZLEMONEY\"\n",
    "tag_line = \"0000\"\n",
    "\n",
    "API_KEY = os.getenv(\"RIOT_API_KEY\")\n",
    "URL = f\"https://americas.api.riotgames.com/riot/account/v1/accounts/by-riot-id/{game_name}/{tag_line}\"\n",
    "\n",
    "headers = {\n",
    "    \"X-Riot-Token\": API_KEY\n",
    "}\n",
    "response = requests.get(URL, headers=headers)\n",
    "\n",
    "if response.status_code == 200:\n",
    "    puuid = response.json()[\"puuid\"]\n",
    "else:\n",
    "    print(\"Request failed with status code:\", response.status_code)"
   ]
  },
  {
   "cell_type": "code",
   "execution_count": null,
   "id": "1d2b4c73",
   "metadata": {},
   "outputs": [],
   "source": [
    "import os\n",
    "import json\n",
    "from collections import defaultdict\n",
    "\n",
    "PROJECT_ROOT = \"/Users/brtnl/OneDrive/Desktop/code/lol_main_recommender\"\n",
    "\n",
    "file_path = os.path.join(PROJECT_ROOT, f\"src/summoner_data/\")\n",
    "for json_file in os.listdir(file_path):\n",
    "    puuid = json_file.split(\".json\")[0]\n",
    "    with open(os.path.join(file_path, json_file), 'r') as f:\n",
    "        match_data = json.load(f)\n",
    "    player_champions = defaultdict(lambda: defaultdict(int))  # {player_id: {champion_id: count}}\n",
    "    for match in match_data:\n",
    "        participants = match.get(\"info\", {}).get(\"participants\", [])\n",
    "        for participant in participants:\n",
    "            if participant.get(\"puuid\") == puuid:\n",
    "                champion_id = participant.get(\"championId\")\n",
    "                player_champions[puuid][champion_id] += 1"
   ]
  },
  {
   "cell_type": "code",
   "execution_count": null,
   "id": "3d825246",
   "metadata": {},
   "outputs": [],
   "source": [
    "\n",
    "\n",
    "# Nested default dict\n",
    "player_champions = defaultdict(lambda: defaultdict(int))  # {player_id: {champion_id: count}}\n",
    "for match in match_data:\n",
    "    participants = match.get(\"info\", {}).get(\"participants\", [])\n",
    "    for participant in participants:\n",
    "        if participant.get(\"puuid\") == puuid:\n",
    "            champion_id = participant.get(\"championId\")\n",
    "            player_champions[puuid][champion_id] += 1"
   ]
  },
  {
   "cell_type": "code",
   "execution_count": null,
   "id": "9ac9753b",
   "metadata": {},
   "outputs": [
    {
     "ename": "ModuleNotFoundError",
     "evalue": "No module named 'pandas'",
     "output_type": "error",
     "traceback": [
      "\u001b[31m---------------------------------------------------------------------------\u001b[39m",
      "\u001b[31mModuleNotFoundError\u001b[39m                       Traceback (most recent call last)",
      "\u001b[36mCell\u001b[39m\u001b[36m \u001b[39m\u001b[32mIn[10]\u001b[39m\u001b[32m, line 1\u001b[39m\n\u001b[32m----> \u001b[39m\u001b[32m1\u001b[39m \u001b[38;5;28;01mimport\u001b[39;00m\u001b[38;5;250m \u001b[39m\u001b[34;01mpandas\u001b[39;00m\u001b[38;5;250m \u001b[39m\u001b[38;5;28;01mas\u001b[39;00m\u001b[38;5;250m \u001b[39m\u001b[34;01mpd\u001b[39;00m\n\u001b[32m      2\u001b[39m pd.DataFrame(player_champions)\n",
      "\u001b[31mModuleNotFoundError\u001b[39m: No module named 'pandas'"
     ]
    }
   ],
   "source": [
    "import pandas as pd\n",
    "\n",
    "pd.DataFrame(player_champions)"
   ]
  },
  {
   "cell_type": "code",
   "execution_count": null,
   "id": "51462503",
   "metadata": {},
   "outputs": [],
   "source": []
  }
 ],
 "metadata": {
  "kernelspec": {
   "display_name": "venv",
   "language": "python",
   "name": "python3"
  },
  "language_info": {
   "codemirror_mode": {
    "name": "ipython",
    "version": 3
   },
   "file_extension": ".py",
   "mimetype": "text/x-python",
   "name": "python",
   "nbconvert_exporter": "python",
   "pygments_lexer": "ipython3",
   "version": "3.12.2"
  }
 },
 "nbformat": 4,
 "nbformat_minor": 5
}
