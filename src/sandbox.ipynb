{
 "cells": [
  {
   "cell_type": "code",
   "execution_count": 2,
   "id": "d5f8df20",
   "metadata": {},
   "outputs": [],
   "source": [
    "import sys\n",
    "import json\n",
    "import os\n",
    "\n",
    "sys.path.append(os.path.abspath(\"../src\"))\n",
    "PROJECT_ROOT = os.getenv(\"PROJECT_ROOT\")"
   ]
  },
  {
   "cell_type": "code",
   "execution_count": 10,
   "id": "1fc5d42a",
   "metadata": {},
   "outputs": [],
   "source": [
    "from recommender.filters.two_tower import TwoTowerModel\n",
    "import torch\n",
    "import torch.nn as nn"
   ]
  },
  {
   "cell_type": "code",
   "execution_count": null,
   "id": "824b253b",
   "metadata": {},
   "outputs": [],
   "source": [
    "# Step 1: Build the df with column of lets say mode rank, mode lanes, roles, attack_types\n",
    "# Step 2: Make train and test loader using TwoTowerChampionDataset\n",
    "# Step 3: iterate for user_feattures, champ_features, rating in loader: preds = model(user_features, champ_features)"
   ]
  },
  {
   "cell_type": "markdown",
   "id": "f14da677",
   "metadata": {},
   "source": []
  },
  {
   "cell_type": "code",
   "execution_count": null,
   "id": "a7a70733",
   "metadata": {},
   "outputs": [],
   "source": [
    "model = TwoTowerModel()\n",
    "# looks into Summoner and ChampTower\n",
    "optimizer = torch.optim.Adam(model.parameters(), lr=1e-3)\n",
    "criterion = nn.MSELoss()\n",
    "for epoch in range(3):\n",
    "    model.train()\n",
    "    total_loss = 0\n",
    "    "
   ]
  },
  {
   "cell_type": "code",
   "execution_count": null,
   "id": "96ac0414",
   "metadata": {},
   "outputs": [
    {
     "data": {
      "text/plain": [
       "<generator object Module.parameters at 0x00000245F8742CE0>"
      ]
     },
     "execution_count": 9,
     "metadata": {},
     "output_type": "execute_result"
    }
   ],
   "source": []
  },
  {
   "cell_type": "code",
   "execution_count": null,
   "id": "7e729a7a",
   "metadata": {},
   "outputs": [],
   "source": []
  },
  {
   "cell_type": "code",
   "execution_count": null,
   "id": "1762d899",
   "metadata": {},
   "outputs": [],
   "source": []
  },
  {
   "cell_type": "code",
   "execution_count": null,
   "id": "db1fa114",
   "metadata": {},
   "outputs": [],
   "source": []
  },
  {
   "cell_type": "code",
   "execution_count": null,
   "id": "64fa436b",
   "metadata": {},
   "outputs": [],
   "source": [
    "from recommender.filters.user_item_collab_filter import DotProduct, AlternatingLeastSquares, ChampionsDataset, train_and_evaluate_model\n",
    "from recommender.data_processors.summoner_mastery_processor import SummonerMasteryProcessor\n",
    "from sklearn.model_selection import train_test_split\n",
    "from recommender.utils.training_utils import MultiEpochsDataLoader\n",
    "import torch\n",
    "import torch.nn as nn"
   ]
  },
  {
   "cell_type": "code",
   "execution_count": 3,
   "id": "9fb51978",
   "metadata": {},
   "outputs": [],
   "source": [
    "summoner_mastery_processor = SummonerMasteryProcessor()"
   ]
  },
  {
   "cell_type": "code",
   "execution_count": 4,
   "id": "3bbc7e74",
   "metadata": {},
   "outputs": [],
   "source": [
    "df, le_user, le_champion = summoner_mastery_processor.load_encoded_ratings()\n",
    "train_df, test_df = train_test_split(df, test_size=0.2)\n",
    "train_dataset = ChampionsDataset(train_df)\n",
    "test_dataset = ChampionsDataset(test_df)\n",
    "\n",
    "train_loader = MultiEpochsDataLoader(\n",
    "    train_dataset,\n",
    "    batch_size=len(train_dataset),\n",
    "    shuffle=True,\n",
    ")\n",
    "test_loader = MultiEpochsDataLoader(\n",
    "    test_dataset,\n",
    "    batch_size=len(test_dataset),\n",
    "    shuffle=True,\n",
    ")\n",
    "\n",
    "# TURN OFF GRADIENT SOMEWHERE HERE\n",
    "\n",
    "num_summoners = len(df[\"puuid\"].unique())\n",
    "num_champions = len(df[\"champ_id\"].unique())\n",
    "num_factors = 3\n",
    "model = DotProduct(num_summoners, num_champions, num_factors)\n",
    "\n",
    "mastery_tensor = torch.zeros([num_summoners, num_champions])\n",
    "for user_ids, champ_ids, ratings in train_loader:\n",
    "    mastery_tensor[user_ids, champ_ids] = ratings"
   ]
  },
  {
   "cell_type": "code",
   "execution_count": 5,
   "id": "e7e094b6",
   "metadata": {},
   "outputs": [
    {
     "name": "stdout",
     "output_type": "stream",
     "text": [
      "Epoch 1, Loss: 401.7171630859375\n",
      "Epoch 2, Loss: 390.6505432128906\n",
      "Epoch 3, Loss: 372.44696044921875\n",
      "Epoch 4, Loss: 351.5109558105469\n",
      "Epoch 5, Loss: 339.3317565917969\n",
      "Epoch 6, Loss: 334.5008239746094\n",
      "Epoch 7, Loss: 332.6465759277344\n",
      "Epoch 8, Loss: 331.49310302734375\n",
      "Epoch 9, Loss: 330.8387145996094\n",
      "Epoch 10, Loss: 330.184814453125\n",
      "Epoch 11, Loss: 329.76708984375\n",
      "Epoch 12, Loss: 329.3188781738281\n",
      "Epoch 13, Loss: 329.0389404296875\n",
      "Epoch 14, Loss: 328.75494384765625\n",
      "Epoch 15, Loss: 328.58184814453125\n",
      "Epoch 16, Loss: 328.4162902832031\n",
      "Epoch 17, Loss: 328.3143005371094\n",
      "Epoch 18, Loss: 328.22174072265625\n",
      "Epoch 19, Loss: 328.1622314453125\n",
      "Epoch 20, Loss: 328.11114501953125\n",
      "Model training completed in 70.29124236106873 seconds.\n"
     ]
    }
   ],
   "source": [
    "train_and_evaluate_model(model, train_loader, test_loader, mastery_tensor=mastery_tensor)"
   ]
  },
  {
   "cell_type": "code",
   "execution_count": null,
   "id": "80de18ee",
   "metadata": {},
   "outputs": [],
   "source": [
    "# Reconstruct the mastery tensor\n",
    "\n",
    "\n",
    "# optimizer = AlternatingLeastSquares(model.parameters(), mastery_tensor)\n",
    "# criterion = nn.MSELoss()\n",
    "\n",
    "# for _ in range(5):\n",
    "#     for user_ids, champ_ids, ratings in train_loader:\n",
    "#         # Zero out the gradient, make predictions, backward propagate the losses, and step forward with the optimizer\n",
    "#         preds = model(user_ids, champ_ids)\n",
    "#         loss = criterion(preds, ratings)\n",
    "#         optimizer.step()\n",
    "#         print(loss)"
   ]
  },
  {
   "cell_type": "code",
   "execution_count": null,
   "id": "6457056a",
   "metadata": {},
   "outputs": [],
   "source": []
  },
  {
   "cell_type": "code",
   "execution_count": null,
   "id": "e4c7a4c6",
   "metadata": {},
   "outputs": [],
   "source": [
    "from recommender.utils.training_utils import train_and_evaluate_model\n",
    "\n",
    "train_and_evaluate_model(model, train_loader, test_loader, AlternatingLeastSquares(model.parameters(), ))"
   ]
  }
 ],
 "metadata": {
  "kernelspec": {
   "display_name": "venv",
   "language": "python",
   "name": "python3"
  },
  "language_info": {
   "codemirror_mode": {
    "name": "ipython",
    "version": 3
   },
   "file_extension": ".py",
   "mimetype": "text/x-python",
   "name": "python",
   "nbconvert_exporter": "python",
   "pygments_lexer": "ipython3",
   "version": "3.12.2"
  }
 },
 "nbformat": 4,
 "nbformat_minor": 5
}
