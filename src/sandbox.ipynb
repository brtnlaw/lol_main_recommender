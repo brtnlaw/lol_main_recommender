{
 "cells": [
  {
   "cell_type": "code",
   "execution_count": 1,
   "id": "d5f8df20",
   "metadata": {},
   "outputs": [],
   "source": [
    "import sys\n",
    "import json\n",
    "import os\n",
    "\n",
    "sys.path.append(os.path.abspath(\"../src\"))\n",
    "PROJECT_ROOT = os.getenv(\"PROJECT_ROOT\")"
   ]
  },
  {
   "cell_type": "code",
   "execution_count": 2,
   "id": "1fc5d42a",
   "metadata": {},
   "outputs": [],
   "source": [
    "from recommender.data_processors.summoner_champion_processor import SummonerMixProcessor\n",
    "from recommender.data_loaders.summoner_match_loader import SummonerMatchLoader\n",
    "from recommender.utils.riot_api_helper import RiotApiHelper\n",
    "from recommender.utils.map_helper import MapHelper\n",
    "\n",
    "smp = SummonerMixProcessor()\n",
    "rah = RiotApiHelper()\n",
    "sml = SummonerMatchLoader()\n",
    "mh = MapHelper()"
   ]
  },
  {
   "cell_type": "code",
   "execution_count": 3,
   "id": "07106784",
   "metadata": {},
   "outputs": [],
   "source": [
    "puuid = \"_2dRYSt03dHrJrRDcYImk2_umcnVSo8i-1WMun-j8YAFYk9CzauMu7WjQ8IJCY_RDWMopccQI_qfcw\"\n",
    "match_ids = rah.get_player_matches(puuid)"
   ]
  },
  {
   "cell_type": "code",
   "execution_count": 6,
   "id": "910b782f",
   "metadata": {},
   "outputs": [
    {
     "name": "stdout",
     "output_type": "stream",
     "text": [
      "Loading data for puuid: _2dRYSt03dHrJrRDcYImk2_umcnVSo8i-1WMun-j8YAFYk9CzauMu7WjQ8IJCY_RDWMopccQI_qfcw\n"
     ]
    }
   ],
   "source": [
    "s = await(sml.async_dump_data_for_puuid(puuid))"
   ]
  },
  {
   "cell_type": "code",
   "execution_count": 4,
   "id": "b169995a",
   "metadata": {},
   "outputs": [],
   "source": [
    "# WAAAAY faster to load matches\n",
    "import asyncio\n",
    "import aiohttp\n",
    "\n",
    "semaphore = asyncio.Semaphore(5)\n",
    "\n",
    "async with aiohttp.ClientSession() as session:\n",
    "    tasks = [\n",
    "        rah.async_get_match_info(session, match_id, semaphore)\n",
    "        for match_id in match_ids\n",
    "    ]\n",
    "    matches2 = await asyncio.gather(*tasks)"
   ]
  },
  {
   "cell_type": "code",
   "execution_count": 7,
   "id": "77e6595e",
   "metadata": {},
   "outputs": [],
   "source": [
    "from concurrent.futures import ProcessPoolExecutor, ThreadPoolExecutor\n",
    "with ProcessPoolExecutor() as executor:\n",
    "    # Partial function to fix puuid and processed_puuids args (optional)\n",
    "    futures = [\n",
    "        executor.submit(sml.process_match_for_puuid, match, puuid)\n",
    "        for match in matches2\n",
    "    ]"
   ]
  },
  {
   "cell_type": "code",
   "execution_count": 14,
   "id": "9a9daa6a",
   "metadata": {},
   "outputs": [],
   "source": [
    "from collections import defaultdict\n",
    "total_dict = defaultdict(int)\n",
    "dicts = [f.result() for f in futures]"
   ]
  },
  {
   "cell_type": "code",
   "execution_count": 16,
   "id": "373886ee",
   "metadata": {},
   "outputs": [
    {
     "data": {
      "text/plain": [
       "<coroutine object SummonerMatchLoader.process_match_for_puuid at 0x0000021A4E496740>"
      ]
     },
     "execution_count": 16,
     "metadata": {},
     "output_type": "execute_result"
    }
   ],
   "source": [
    "futures[0].result()"
   ]
  },
  {
   "cell_type": "code",
   "execution_count": null,
   "id": "824b253b",
   "metadata": {},
   "outputs": [],
   "source": [
    "# Step 1: Build the df with column of lets say mode rank, mode lanes, roles, attack_types\n",
    "# Step 2: Make train and test loader using TwoTowerChampionDataset\n",
    "# Step 3: iterate for user_feattures, champ_features, rating in loader: preds = model(user_features, champ_features)"
   ]
  },
  {
   "cell_type": "code",
   "execution_count": null,
   "id": "39f806b7",
   "metadata": {},
   "outputs": [],
   "source": []
  },
  {
   "cell_type": "code",
   "execution_count": null,
   "id": "f5a71b33",
   "metadata": {},
   "outputs": [],
   "source": []
  }
 ],
 "metadata": {
  "kernelspec": {
   "display_name": "venv",
   "language": "python",
   "name": "python3"
  },
  "language_info": {
   "codemirror_mode": {
    "name": "ipython",
    "version": 3
   },
   "file_extension": ".py",
   "mimetype": "text/x-python",
   "name": "python",
   "nbconvert_exporter": "python",
   "pygments_lexer": "ipython3",
   "version": "3.12.2"
  }
 },
 "nbformat": 4,
 "nbformat_minor": 5
}
