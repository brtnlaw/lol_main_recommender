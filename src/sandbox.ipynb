{
 "cells": [
  {
   "cell_type": "code",
   "execution_count": 1,
   "id": "d5f8df20",
   "metadata": {},
   "outputs": [],
   "source": [
    "import sys\n",
    "import json\n",
    "import os\n",
    "\n",
    "sys.path.append(os.path.abspath(\"../src\"))\n",
    "PROJECT_ROOT = os.getenv(\"PROJECT_ROOT\")"
   ]
  },
  {
   "cell_type": "code",
   "execution_count": 2,
   "id": "1fc5d42a",
   "metadata": {},
   "outputs": [],
   "source": [
    "from recommender.data_processors.summoner_champion_processor import SummonerMixProcessor\n",
    "from recommender.data_loaders.summoner_match_loader import SummonerMatchLoader\n",
    "from recommender.utils.riot_api_helper import RiotApiHelper\n",
    "from recommender.utils.map_helper import MapHelper\n",
    "\n",
    "smp = SummonerMixProcessor()\n",
    "rah = RiotApiHelper()\n",
    "sml = SummonerMatchLoader()\n",
    "mh = MapHelper()"
   ]
  },
  {
   "cell_type": "code",
   "execution_count": 3,
   "id": "07106784",
   "metadata": {},
   "outputs": [],
   "source": [
    "puuid = \"_2dRYSt03dHrJrRDcYImk2_umcnVSo8i-1WMun-j8YAFYk9CzauMu7WjQ8IJCY_RDWMopccQI_qfcw\"\n",
    "match_ids = rah.get_player_matches(puuid)"
   ]
  },
  {
   "cell_type": "code",
   "execution_count": 4,
   "id": "910b782f",
   "metadata": {},
   "outputs": [],
   "source": [
    "# s = await(sml.async_dump_data_for_puuid(puuid))"
   ]
  },
  {
   "cell_type": "code",
   "execution_count": 4,
   "id": "bfe13233",
   "metadata": {},
   "outputs": [
    {
     "name": "stdout",
     "output_type": "stream",
     "text": [
      "Re-aggregating summoner mix data...\n",
      "Generating data for puuid --EEhXPKpjfGXqRUXQeFUIrad-z3jgjyrwQj6Z49G4zWAK77gXCckScrJ9yxTxy91DXiJXWp_ka1Vg\n",
      "Generating data for puuid -0tFbkE3vD6takqkFfPNO0xIRQsE-5GeKCJEBRYGwi04RTJlsDn6_ao2Jv0_v7Oy-eZ40k6tuXALeA\n",
      "Generating data for puuid -7e5FbjuTrjsYyDu8GQG0p9wORit7_GD7BHCxR-k9rNo6c6TOOXHm45mlwmyLe15z8us7Af4J8BSDw\n",
      "Generating data for puuid -AeAsdpxcfQCzruP8eiXWNoatCvBehRa4jQHi8EwcOS-o2AslVvGvtFmEw8decsO1cEsndLKfd4AYg\n",
      "Generating data for puuid -Bb1a-1E8rA-pPj9Ox4CMqD9HFhUc621aLpnJCb-L0uHMHjWn6cQRs6-JiFddPZcqSJIQvl7UVPw-g\n",
      "Generating data for puuid -BqQfTAcKlpMkRvlxw47F-J08UhYbOQlAdiYPaCDb_80FoOx03XEPnYxm3cstfH1OtR-m943i5EkaQ\n",
      "Generating data for puuid -BXshTcdyXRt5-atK0qoLlcWzPeasgVww_1-gfuWj7sfMN2QLgduRb1746l2DNhllxJY24gm1ARSNA\n",
      "Generating data for puuid -FGEAjO09lvMdpfS3LaLC1VUD8-0TiyPl8arUdiSiYnghH26XGaPdASpwCwzxvCNZPNsbbQfaNA5kw\n",
      "Generating data for puuid -GWHUCbLnG--12pjpNvsal5A6LmiSU4VWpP-Stx2ts8jMOLPvYZxOCrM7y4izxLCsZWnPVYL06Hq3Q\n",
      "Generating data for puuid -H8ql6xgmtqoknFGL9IUKYhZ3KbG2iWIbD8G-v7pgcVvKgcrZM7t3N6V7_fBeGx0RGWTkEUvWkGTbQ\n",
      "Generating data for puuid -jWfXvvGWth4fJcGZI7Drof0MT5vp9X-EFtVtdE0j1MN7Y_rIJe95FIebBWOj_DQDJ302wf3PZTOcA\n",
      "Generating data for puuid -JYoVrE-YdK3_FRsjyNGR8rb5XYmQLsBx-qrV5nC95yUeRJD3mUDND4v9Aperot7q1jaduh4w34iGQ\n",
      "Generating data for puuid -l7coCWP5lDQO0p6cF_dZVX-hOxyRPhYEeq0oUGyX9frulK6fdAcXIWj7f1aKNHwzLRWARRR7K_irA\n"
     ]
    },
    {
     "ename": "KeyError",
     "evalue": "'FiddleSticks'",
     "output_type": "error",
     "traceback": [
      "\u001b[31m---------------------------------------------------------------------------\u001b[39m",
      "\u001b[31mKeyError\u001b[39m                                  Traceback (most recent call last)",
      "\u001b[36mCell\u001b[39m\u001b[36m \u001b[39m\u001b[32mIn[4]\u001b[39m\u001b[32m, line 1\u001b[39m\n\u001b[32m----> \u001b[39m\u001b[32m1\u001b[39m \u001b[38;5;28;01mawait\u001b[39;00m smp.async_load_encoded_ratings()\n",
      "\u001b[36mFile \u001b[39m\u001b[32mc:\\Users\\brtnl\\OneDrive\\Desktop\\code\\lol_main_recommender\\src\\recommender\\data_processors\\summoner_champion_processor.py:72\u001b[39m, in \u001b[36mSummonerMixProcessor.async_load_encoded_ratings\u001b[39m\u001b[34m(self, overwrite_aggregate)\u001b[39m\n\u001b[32m     70\u001b[39m         \u001b[38;5;28;01mcontinue\u001b[39;00m\n\u001b[32m     71\u001b[39m     games_played = match_history[champion]\n\u001b[32m---> \u001b[39m\u001b[32m72\u001b[39m     \u001b[38;5;28;01mfor\u001b[39;00m lane \u001b[38;5;129;01min\u001b[39;00m \u001b[43mchamp_metadata\u001b[49m\u001b[43m[\u001b[49m\u001b[43mchampion\u001b[49m\u001b[43m]\u001b[49m[\u001b[33m\"\u001b[39m\u001b[33mpositions\u001b[39m\u001b[33m\"\u001b[39m]:\n\u001b[32m     73\u001b[39m         lane_counts[lane] += games_played\n\u001b[32m     75\u001b[39m \u001b[38;5;66;03m# Break ties of lanes randomly\u001b[39;00m\n",
      "\u001b[31mKeyError\u001b[39m: 'FiddleSticks'"
     ]
    }
   ],
   "source": [
    "await smp.async_load_encoded_ratings()"
   ]
  },
  {
   "cell_type": "code",
   "execution_count": null,
   "id": "824b253b",
   "metadata": {},
   "outputs": [],
   "source": [
    "# Step 1: Build the df with column of lets say mode rank, mode lanes, roles, attack_types\n",
    "# Step 2: Make train and test loader using TwoTowerChampionDataset\n",
    "# Step 3: iterate for user_feattures, champ_features, rating in loader: preds = model(user_features, champ_features)"
   ]
  },
  {
   "cell_type": "code",
   "execution_count": null,
   "id": "39f806b7",
   "metadata": {},
   "outputs": [],
   "source": []
  },
  {
   "cell_type": "code",
   "execution_count": null,
   "id": "f5a71b33",
   "metadata": {},
   "outputs": [],
   "source": []
  }
 ],
 "metadata": {
  "kernelspec": {
   "display_name": "venv",
   "language": "python",
   "name": "python3"
  },
  "language_info": {
   "codemirror_mode": {
    "name": "ipython",
    "version": 3
   },
   "file_extension": ".py",
   "mimetype": "text/x-python",
   "name": "python",
   "nbconvert_exporter": "python",
   "pygments_lexer": "ipython3",
   "version": "3.12.2"
  }
 },
 "nbformat": 4,
 "nbformat_minor": 5
}
