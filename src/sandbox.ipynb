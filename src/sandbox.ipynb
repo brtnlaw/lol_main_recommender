{
 "cells": [
  {
   "cell_type": "code",
   "execution_count": 1,
   "id": "d5f8df20",
   "metadata": {},
   "outputs": [],
   "source": [
    "import sys\n",
    "import os\n",
    "\n",
    "sys.path.append(os.path.abspath(\"../src\"))\n",
    "\n",
    "from recommender.riot_api_helper import RiotApiHelper\n",
    "from recommender.data_loaders.summoner_mastery_loader import SummonerMasteryLoader\n",
    "from recommender.data_processors.summoner_mastery_processor import SummonerMasteryProcessor"
   ]
  },
  {
   "cell_type": "code",
   "execution_count": 4,
   "id": "b88a93da",
   "metadata": {},
   "outputs": [
    {
     "data": {
      "text/plain": [
       "(                                                    puuid champ_name  \\\n",
       " 0       --EEhXPKpjfGXqRUXQeFUIrad-z3jgjyrwQj6Z49G4zWAK...     Aatrox   \n",
       " 1       -0tFbkE3vD6takqkFfPNO0xIRQsE-5GeKCJEBRYGwi04RT...     Aatrox   \n",
       " 2       -7e5FbjuTrjsYyDu8GQG0p9wORit7_GD7BHCxR-k9rNo6c...     Aatrox   \n",
       " 3       -AeAsdpxcfQCzruP8eiXWNoatCvBehRa4jQHi8EwcOS-o2...     Aatrox   \n",
       " 4       -Bb1a-1E8rA-pPj9Ox4CMqD9HFhUc621aLpnJCb-L0uHMH...     Aatrox   \n",
       " ...                                                   ...        ...   \n",
       " 146025  _vuXUF_TQs1RuindiNch6El_TrJX9b609fJGbXH64046v3...     Yorick   \n",
       " 146026  _wcrNrVvGYv3syJjVhNZx93SZJOwl3GYn0vK3oOxQb-0Jh...     Yorick   \n",
       " 146027  _xGyR0kT2240JuSOwzokb0ewFGVR3VeeGNJMBsYk3oU6Di...     Yorick   \n",
       " 146028  _Xuv4oW8ZMrsulBBFw8neDnnzf517VhDK9gKsGzUHG5YnS...     Yorick   \n",
       " 146029  _zI3Jacjq9-EgA4Nk-ZSO7KIzac3dgnFEu-qtO-11hBr7L...     Yorick   \n",
       " \n",
       "           rating  user_id  champ_id  \n",
       " 0       8.870166        0         0  \n",
       " 1       2.290218        1         0  \n",
       " 2       0.000000        2         0  \n",
       " 3       6.300360        3         0  \n",
       " 4       5.728392        5         0  \n",
       " ...          ...      ...       ...  \n",
       " 146025  1.861124      500       161  \n",
       " 146026  0.000000      501       161  \n",
       " 146027  0.000000      502       161  \n",
       " 146028  3.869871      494       161  \n",
       " 146029  0.000000      503       161  \n",
       " \n",
       " [146030 rows x 5 columns],\n",
       " LabelEncoder(),\n",
       " LabelEncoder())"
      ]
     },
     "execution_count": 4,
     "metadata": {},
     "output_type": "execute_result"
    }
   ],
   "source": [
    "smp = SummonerMasteryProcessor()\n",
    "smp.load_encoded_ratings()"
   ]
  },
  {
   "cell_type": "code",
   "execution_count": null,
   "id": "779927b4",
   "metadata": {},
   "outputs": [],
   "source": []
  }
 ],
 "metadata": {
  "kernelspec": {
   "display_name": "venv",
   "language": "python",
   "name": "python3"
  },
  "language_info": {
   "codemirror_mode": {
    "name": "ipython",
    "version": 3
   },
   "file_extension": ".py",
   "mimetype": "text/x-python",
   "name": "python",
   "nbconvert_exporter": "python",
   "pygments_lexer": "ipython3",
   "version": "3.12.2"
  }
 },
 "nbformat": 4,
 "nbformat_minor": 5
}
